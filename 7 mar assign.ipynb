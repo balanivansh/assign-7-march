{
 "cells": [
  {
   "cell_type": "markdown",
   "id": "5b2bb715-429b-4ea8-a209-ee30f529b5d2",
   "metadata": {},
   "source": [
    "1. Measures of central tendency are : Mean, Median and Mode"
   ]
  },
  {
   "cell_type": "markdown",
   "id": "096ad9f0-d4b7-4da9-8281-f618e9a8f91e",
   "metadata": {},
   "source": [
    " 2. Measures of central tendency :\n",
    "1) Mean: generally used when data distribution is continuous and symmertric.\n",
    "      e.g. average height of student in a class of 10 students.\n",
    "2) Median: used to find central tendency when Outliers is present \n",
    "   e.g. average income of a country like India.\n",
    "3) Mode: defines maximum frequency in an event.\n",
    "   e.g. which fruit is maximum in a basket. \n",
    "\n",
    "\n"
   ]
  },
  {
   "cell_type": "markdown",
   "id": "a8968ec8-f8fa-4085-9909-4d01f6697b0e",
   "metadata": {},
   "source": [
    "3."
   ]
  },
  {
   "cell_type": "code",
   "execution_count": 21,
   "id": "08391293-413a-4ece-85dc-620b9d2c0565",
   "metadata": {},
   "outputs": [],
   "source": [
    "import numpy as np"
   ]
  },
  {
   "cell_type": "code",
   "execution_count": 2,
   "id": "b9e5d2a7-d5db-44c9-b254-54d378d6b3b2",
   "metadata": {},
   "outputs": [
    {
     "data": {
      "text/plain": [
       "177.01875"
      ]
     },
     "execution_count": 2,
     "metadata": {},
     "output_type": "execute_result"
    }
   ],
   "source": [
    "data=[178,177,176,177,178.2,178,175,179,180,175,178.9,176.2,177,172.5,178,176.5]\n",
    "np.mean(data)"
   ]
  },
  {
   "cell_type": "code",
   "execution_count": 3,
   "id": "787b15da-fbef-457a-a7fe-e90245536878",
   "metadata": {},
   "outputs": [
    {
     "data": {
      "text/plain": [
       "177.0"
      ]
     },
     "execution_count": 3,
     "metadata": {},
     "output_type": "execute_result"
    }
   ],
   "source": [
    "np.median(data)"
   ]
  },
  {
   "cell_type": "code",
   "execution_count": 4,
   "id": "f6eb3c7e-2f6c-4990-ab79-2f76c4a26e7e",
   "metadata": {},
   "outputs": [
    {
     "name": "stderr",
     "output_type": "stream",
     "text": [
      "/tmp/ipykernel_102/2800027621.py:2: FutureWarning: Unlike other reduction functions (e.g. `skew`, `kurtosis`), the default behavior of `mode` typically preserves the axis it acts along. In SciPy 1.11.0, this behavior will change: the default value of `keepdims` will become False, the `axis` over which the statistic is taken will be eliminated, and the value None will no longer be accepted. Set `keepdims` to True or False to avoid this warning.\n",
      "  stats.mode(data)\n"
     ]
    },
    {
     "data": {
      "text/plain": [
       "ModeResult(mode=array([177.]), count=array([3]))"
      ]
     },
     "execution_count": 4,
     "metadata": {},
     "output_type": "execute_result"
    }
   ],
   "source": [
    "from scipy import stats\n",
    "stats.mode(data)"
   ]
  },
  {
   "cell_type": "markdown",
   "id": "cf9e08d5-d3ab-49ac-90af-5761d0eaa74c",
   "metadata": {},
   "source": [
    "4."
   ]
  },
  {
   "cell_type": "code",
   "execution_count": 5,
   "id": "26dde842-6547-42cd-8e75-680767aabdce",
   "metadata": {},
   "outputs": [
    {
     "data": {
      "text/plain": [
       "1.7885814036548633"
      ]
     },
     "execution_count": 5,
     "metadata": {},
     "output_type": "execute_result"
    }
   ],
   "source": [
    "np.std(data)"
   ]
  },
  {
   "cell_type": "markdown",
   "id": "54adc846-420b-43c0-8195-61253a5dbf93",
   "metadata": {},
   "source": [
    "5. Measures of Variability-\n",
    "1) Range: the difference between the highest and lowest values.\n",
    "e.g. number of students in a classroom.\n",
    "2) Interquartile range: the range of the middle half of a distribution.\n",
    "e.g. number of students having score between 50 to 80 marks.\n",
    "3) Standard deviation: average distance from the mean.\n",
    "e.g. mean of height is 5ft'9 so students 3 inches above and below mean are..\n",
    "4) Variance: average of squared distances from the mean. \n",
    "e.g. mean of height is 5ft'9 so students root(3) inches above and below mean are.. \n",
    "\n"
   ]
  },
  {
   "cell_type": "markdown",
   "id": "a37e7051-ce12-4420-af57-cdfde5d90f37",
   "metadata": {},
   "source": [
    "6. A Venn diagram is a picture that represents the outcomes of an experiment. It generally consists of a rectangle that represents space S together with circles inside it. The circle represents events."
   ]
  },
  {
   "cell_type": "markdown",
   "id": "0f908388-e677-473d-9c14-089e480ed2c4",
   "metadata": {},
   "source": [
    "7. A=(2,3,4,5,6)  B=(0,2,6,8,10)\n",
    " (i) A^B = (2,6)\n",
    " (ii) AvB = (0,2,3,4,5,6,8,10)   "
   ]
  },
  {
   "cell_type": "markdown",
   "id": "d1c32888-83d0-4072-b385-7d61dcb76862",
   "metadata": {},
   "source": [
    "8. Skewness describes how much statistical data distribution is asymmetrical from the normal distribution, where distribution is equally divided on each side. If a distribution is not symmetrical or normal, it is skewed, i.e., the frequency distribution skewed to the left or right.\n"
   ]
  },
  {
   "cell_type": "markdown",
   "id": "744c07a6-5b7b-497a-8f76-2ef2bdca1a88",
   "metadata": {},
   "source": [
    "9. In Right skewed data median =< mean."
   ]
  },
  {
   "cell_type": "markdown",
   "id": "27c08968-2de3-4c33-8759-0e842240abb9",
   "metadata": {},
   "source": [
    "10. Covariance tells that two variable change the same way (indicates direction). \n",
    " Corelation tells that how a change in one variable affects a change in the other (indicates strength and direction). \n",
    "    Covariance is nothing but a measure of correlation.\n",
    "    \n",
    "     Use in statistical analysis:\n",
    "     Covariance is used to determine relationship between the movements of two variables and Correlation is a measure that expresses the extent to which two variables are linearly related.      "
   ]
  },
  {
   "cell_type": "markdown",
   "id": "b8234d08-08aa-49b9-bad1-77c195229ca4",
   "metadata": {},
   "source": [
    "11. Sample mean = x̄= (xi)/n"
   ]
  },
  {
   "cell_type": "code",
   "execution_count": 26,
   "id": "d842d600-e4e9-4b72-849b-fc1699893b98",
   "metadata": {},
   "outputs": [
    {
     "name": "stdout",
     "output_type": "stream",
     "text": [
      "[178, 177, 176, 177, 178.2, 178, 175, 179, 180, 175, 178.9, 176.2, 177, 172.5, 178, 176.5]\n"
     ]
    }
   ],
   "source": [
    "print(data)\n",
    "# here n=16"
   ]
  },
  {
   "cell_type": "code",
   "execution_count": 27,
   "id": "d46c46d3-81f2-4669-bf8c-828aa0db050b",
   "metadata": {},
   "outputs": [],
   "source": [
    "xi = sum(data)"
   ]
  },
  {
   "cell_type": "code",
   "execution_count": 28,
   "id": "7f56c27d-a1f4-483d-bb16-f378fa406c5a",
   "metadata": {},
   "outputs": [],
   "source": [
    "x̄= (xi)/16"
   ]
  },
  {
   "cell_type": "code",
   "execution_count": 29,
   "id": "616f1fb6-91c2-4389-a9c2-7fbe1f106fb2",
   "metadata": {},
   "outputs": [
    {
     "name": "stdout",
     "output_type": "stream",
     "text": [
      "177.01875\n"
     ]
    }
   ],
   "source": [
    "print(x̄)"
   ]
  },
  {
   "cell_type": "markdown",
   "id": "10e4751b-8aaa-4007-8081-241970686def",
   "metadata": {},
   "source": [
    "12. The mean, median and mode are exactly same for normal distribution"
   ]
  },
  {
   "cell_type": "markdown",
   "id": "b9b6138f-9c93-4d63-8a1d-817f1dd9d06e",
   "metadata": {},
   "source": [
    "13. Covariance tells that two variable change the same way (indicates direction). \n",
    " Corelation tells that how a change in one variable affects a change in the other (indicates strength and direction). \n",
    "    Covariance is nothing but a measure of correlation.  "
   ]
  },
  {
   "cell_type": "markdown",
   "id": "6a301a01-202f-4ffc-a624-054665745c83",
   "metadata": {},
   "source": [
    "14.Measure of central tendency:\n",
    "Outliers affect the mean value of the data but have little effect on the median or mode of a given set of data.\n",
    "Measure of dispersion:\n",
    "Range is strongly influenced, standard deviation and variance are also affected but interquartile range is unaffected.    \n",
    "    "
   ]
  },
  {
   "cell_type": "code",
   "execution_count": null,
   "id": "a5ea8664-102f-490a-a351-a248033f3b1f",
   "metadata": {},
   "outputs": [],
   "source": []
  }
 ],
 "metadata": {
  "kernelspec": {
   "display_name": "Python 3 (ipykernel)",
   "language": "python",
   "name": "python3"
  },
  "language_info": {
   "codemirror_mode": {
    "name": "ipython",
    "version": 3
   },
   "file_extension": ".py",
   "mimetype": "text/x-python",
   "name": "python",
   "nbconvert_exporter": "python",
   "pygments_lexer": "ipython3",
   "version": "3.10.8"
  }
 },
 "nbformat": 4,
 "nbformat_minor": 5
}
